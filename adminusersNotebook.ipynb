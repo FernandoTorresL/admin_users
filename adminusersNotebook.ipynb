{
 "cells": [
  {
   "cell_type": "markdown",
   "metadata": {},
   "source": [
    "# Get all the data from users on Admin"
   ]
  },
  {
   "cell_type": "markdown",
   "metadata": {},
   "source": [
    "## Scraping on a site with login"
   ]
  },
  {
   "cell_type": "code",
   "execution_count": 1,
   "metadata": {},
   "outputs": [],
   "source": [
    "# Prepare a function to read the configuration file with the confidential data...\n",
    "# ...because the website is an private website on an Intranet, the production file is config.yaml.\n",
    "# In GitHub there is only a config.yaml.example with dummy data\n",
    "\n",
    "import yaml\n",
    "\n",
    "__config = None\n",
    "\n",
    "def config():\n",
    "\n",
    "    global __config\n",
    "\n",
    "    if not __config:\n",
    "        with open('./scraper_ETL/extract/config.yaml', mode='r') as f:\n",
    "            config = yaml.safe_load(f)\n",
    "\n",
    "    return config\n"
   ]
  },
  {
   "cell_type": "code",
   "execution_count": 2,
   "metadata": {
    "scrolled": true
   },
   "outputs": [],
   "source": [
    "# Get the url on the config file\n",
    "host = config()['website_data']['url']\n",
    "# host"
   ]
  },
  {
   "cell_type": "code",
   "execution_count": 3,
   "metadata": {},
   "outputs": [],
   "source": [
    "#Import selenium\n",
    "from selenium import webdriver\n",
    "\n",
    "# Setup driver\n",
    "options = webdriver.ChromeOptions()\n",
    "options.add_argument('--incognito')\n",
    "driver = webdriver.Chrome(executable_path='./driver/chromedriver', options=options)\n",
    "\n",
    "# Get the site\n",
    "driver.get(host)\n"
   ]
  },
  {
   "cell_type": "code",
   "execution_count": 4,
   "metadata": {},
   "outputs": [
    {
     "data": {
      "text/plain": [
       "[<selenium.webdriver.remote.webelement.WebElement (session=\"36f3bc761351bd1c613f91c4f5b58ec6\", element=\"04de043f-727f-4f91-913d-6dfcf109d230\")>]"
      ]
     },
     "execution_count": 4,
     "metadata": {},
     "output_type": "execute_result"
    }
   ],
   "source": [
    "# Setup login\n",
    "# Find the login elements and ensure that there are only one of each type\n",
    "\n",
    "driver.find_elements_by_xpath('//input[@name=\"usuario\"]')\n"
   ]
  },
  {
   "cell_type": "code",
   "execution_count": 5,
   "metadata": {},
   "outputs": [
    {
     "data": {
      "text/plain": [
       "[<selenium.webdriver.remote.webelement.WebElement (session=\"36f3bc761351bd1c613f91c4f5b58ec6\", element=\"d83f2e2a-116f-4754-8a5f-8ce2df01aba9\")>]"
      ]
     },
     "execution_count": 5,
     "metadata": {},
     "output_type": "execute_result"
    }
   ],
   "source": [
    "driver.find_elements_by_xpath('//input[@name=\"pwd\"]')"
   ]
  },
  {
   "cell_type": "code",
   "execution_count": 7,
   "metadata": {},
   "outputs": [],
   "source": [
    "# Get the credential data\n",
    "user = config()['website_data']['user']\n",
    "password = config()['website_data']['password']\n",
    "\n",
    "alt_bntAceptarLogin = config()['website_data']['labels']['page01']['alt_bntAceptarLogin']\n"
   ]
  },
  {
   "cell_type": "code",
   "execution_count": 8,
   "metadata": {},
   "outputs": [],
   "source": [
    "# Login\n",
    "driver.find_element_by_xpath('//input[@name=\"usuario\"]').send_keys(user)\n",
    "driver.find_element_by_xpath('//input[@name=\"pwd\"]').send_keys(password)\n",
    "\n",
    "# Click to login... the element is an input without name and an alt tag defined on config.yaml: \n",
    "    # <input type=\"image\" name src=\"bt_aceptar.gif\" alt=\"Entar al Sistema\">\n",
    "driver.find_element_by_xpath('//input[@alt=\"' + alt_bntAceptarLogin + '\"]').click()"
   ]
  },
  {
   "cell_type": "markdown",
   "metadata": {},
   "source": [
    "### Successful login!"
   ]
  },
  {
   "cell_type": "markdown",
   "metadata": {},
   "source": [
    "## Navigate to the important data"
   ]
  },
  {
   "cell_type": "code",
   "execution_count": 9,
   "metadata": {},
   "outputs": [
    {
     "data": {
      "text/plain": [
       "<selenium.webdriver.remote.webelement.WebElement (session=\"36f3bc761351bd1c613f91c4f5b58ec6\", element=\"133eca60-fdab-46f9-bf90-2c833b5cdff2\")>"
      ]
     },
     "execution_count": 9,
     "metadata": {},
     "output_type": "execute_result"
    }
   ],
   "source": [
    "# Locate the menu option\n",
    "# <a href=\"javascript:catchSelection(4000);\">Control de Usuarios</a>\n",
    "text_menuCtrlUsuarios = config()['website_data']['labels']['page02']['text_menuCtrlUsuarios']\n",
    "\n",
    "driver.find_element_by_xpath('//a[text()=\"' + text_menuCtrlUsuarios + '\"]')"
   ]
  },
  {
   "cell_type": "code",
   "execution_count": 10,
   "metadata": {},
   "outputs": [],
   "source": [
    "driver.find_element_by_xpath('//a[text()=\"' + text_menuCtrlUsuarios + '\"]').click()"
   ]
  },
  {
   "cell_type": "code",
   "execution_count": 11,
   "metadata": {},
   "outputs": [],
   "source": [
    "# Now, the next element is a select menu, so we need to import Select from Selenium\n",
    "from selenium.webdriver.support.select import Select\n"
   ]
  },
  {
   "cell_type": "code",
   "execution_count": 12,
   "metadata": {},
   "outputs": [
    {
     "name": "stdout",
     "output_type": "stream",
     "text": [
      "Seleccione\n",
      "Alta de Usuarios\n",
      "Baja de Usuarios\n",
      "Modificar Usuarios\n",
      "Consulta de Usuarios\n"
     ]
    }
   ],
   "source": [
    "# Inspect the select and print the options\n",
    "\n",
    "# First we get the name of the select menu\n",
    "name_selectMenu = config()['website_data']['labels']['page03']['name_selectMenu']\n",
    "\n",
    "test = Select(driver.find_element_by_name(name_selectMenu))\n",
    "# test.select_by_value(\"Consulta de Usuarios\")\n",
    "print(test.options[0].text)\n",
    "print(test.options[1].text)\n",
    "print(test.options[2].text)\n",
    "print(test.options[3].text)\n",
    "print(test.options[4].text)"
   ]
  },
  {
   "cell_type": "code",
   "execution_count": 15,
   "metadata": {},
   "outputs": [],
   "source": [
    "# Select the correct option\n",
    "test = Select(driver.find_element_by_name(name_selectMenu))\n",
    "option_selectMenu = config()['website_data']['labels']['page03']['option_selectMenu']\n",
    "test.select_by_value(option_selectMenu)"
   ]
  },
  {
   "cell_type": "code",
   "execution_count": 16,
   "metadata": {},
   "outputs": [],
   "source": [
    "# Now, we had selected the option on the menu, click on button \"Aceptar\"\n",
    "alt_bntAceptarSelect = config()['website_data']['labels']['page03']['alt_bntAceptarSelect']\n",
    "driver.find_element_by_xpath('//img[@alt=\"' + alt_bntAceptarSelect + '\"]').click()"
   ]
  },
  {
   "cell_type": "code",
   "execution_count": 17,
   "metadata": {},
   "outputs": [],
   "source": [
    "# Query all the accounts\n",
    "\n",
    "# <img src=\"bt_consulta.gif\" alt=\"Consultar\" ... >\n",
    "# Click on button\n",
    "alt_bntConsulta = config()['website_data']['labels']['page04']['alt_bntConsulta']\n",
    "driver.find_element_by_xpath('//img[@alt=\"' + alt_bntConsulta + '\"]').click()"
   ]
  },
  {
   "cell_type": "markdown",
   "metadata": {},
   "source": [
    "## Get the data"
   ]
  },
  {
   "cell_type": "code",
   "execution_count": 19,
   "metadata": {},
   "outputs": [
    {
     "data": {
      "text/plain": [
       "65"
      ]
     },
     "execution_count": 19,
     "metadata": {},
     "output_type": "execute_result"
    }
   ],
   "source": [
    "# Inspect pagination\n",
    "\n",
    "# Find element\n",
    "# rows = driver.find_element_by_xpath('//table[@class=\"txt\"]').get_attribute('cellspacing')\n",
    "# rows = driver.find_elements_by_xpath('//table[@class=\"txt\"]/tbody/tr/td/table/tbody/tr') //26 rows (max 13 rows)\n",
    "# Select rows of data without the titles row (not @valign) and even rows // 65 data\n",
    "even_rows = driver.find_elements_by_xpath('//table[@class=\"txt\"]/tbody/tr/td/table/tbody/tr[not(@valign)]/td[@class=\"txtb\"]')\n",
    "\n",
    "len(even_rows)"
   ]
  },
  {
   "cell_type": "code",
   "execution_count": 20,
   "metadata": {},
   "outputs": [
    {
     "data": {
      "text/plain": [
       "60"
      ]
     },
     "execution_count": 20,
     "metadata": {},
     "output_type": "execute_result"
    }
   ],
   "source": [
    "# Select rows of data without the titles row (not @valign) and even rows // 60 data (max 12 rows)\n",
    "odd_rows = driver.find_elements_by_xpath('//table[@class=\"txt\"]/tbody/tr/td/table/tbody/tr[not(@valign)]/td[@class=\"txt\"]')\n",
    "\n",
    "len(odd_rows)\n"
   ]
  },
  {
   "cell_type": "code",
   "execution_count": null,
   "metadata": {},
   "outputs": [],
   "source": [
    "# Testing with the first and second rows\n",
    "i = 0\n",
    "j = 0\n",
    "\n",
    "curp = even_rows[i].text\n",
    "print('CURP:', curp)\n",
    "i = i + 1\n",
    "matricula = even_rows[i].text\n",
    "print('Matrícula:', matricula)\n",
    "i = i + 1\n",
    "nombre = even_rows[i].text\n",
    "print('Nombre:', nombre)\n",
    "i = i + 1\n",
    "cuenta = even_rows[i].text\n",
    "print('Cuenta:', cuenta)\n",
    "i = i + 1\n",
    "grupo = even_rows[i].text\n",
    "print('Grupo:', grupo)\n",
    "i = i + 1\n",
    "\n",
    "curp = odd_rows[j].text\n",
    "print('CURP:', curp)\n",
    "j = j + 1\n",
    "matricula = odd_rows[j].text\n",
    "print('Matrícula:', matricula)\n",
    "j = j + 1\n",
    "nombre = odd_rows[j].text\n",
    "print('Nombre:', nombre)\n",
    "j = j + 1\n",
    "cuenta = odd_rows[j].text\n",
    "print('Cuenta:', cuenta)\n",
    "j = j + 1\n",
    "grupo = odd_rows[j].text\n",
    "print('Grupo:', grupo)\n",
    "j = j + 1"
   ]
  },
  {
   "cell_type": "code",
   "execution_count": 22,
   "metadata": {},
   "outputs": [
    {
     "data": {
      "text/plain": [
       "125"
      ]
     },
     "execution_count": 22,
     "metadata": {},
     "output_type": "execute_result"
    }
   ],
   "source": [
    "# Or, even better, select all the data in the same object with:\n",
    "\n",
    "all_rows = driver.find_elements_by_xpath('//table[@class=\"txt\"]/tbody/tr/td/table/tbody/tr[not(@valign)]/td[contains(@class, \"txt\")]')\n",
    "\n",
    "len(all_rows)\n"
   ]
  },
  {
   "cell_type": "code",
   "execution_count": null,
   "metadata": {},
   "outputs": [],
   "source": [
    "# Testing with the first and second rows\n",
    "i = 0\n",
    "\n",
    "print(\"Record #\", int(i / 5 + 1))\n",
    "curp = all_rows[i].text\n",
    "print('CURP:', curp)\n",
    "i = i + 1\n",
    "matricula = all_rows[i].text\n",
    "print('Matrícula:', matricula)\n",
    "i = i + 1\n",
    "nombre = all_rows[i].text\n",
    "print('Nombre:', nombre)\n",
    "i = i + 1\n",
    "cuenta = all_rows[i].text\n",
    "print('Cuenta:', cuenta)\n",
    "i = i + 1\n",
    "grupo = all_rows[i].text\n",
    "print('Grupo:', grupo)\n",
    "i = i + 1\n",
    "print(\"\")\n",
    "\n",
    "print(\"Record #\", int(i / 5 + 1))\n",
    "curp = all_rows[i].text\n",
    "print('CURP:', curp)\n",
    "i = i + 1\n",
    "matricula = all_rows[i].text\n",
    "print('Matrícula:', matricula)\n",
    "i = i + 1\n",
    "nombre = all_rows[i].text\n",
    "print('Nombre:', nombre)\n",
    "i = i + 1\n",
    "cuenta = all_rows[i].text\n",
    "print('Cuenta:', cuenta)\n",
    "i = i + 1\n",
    "grupo = all_rows[i].text\n",
    "print('Grupo:', grupo)\n",
    "i = i + 1\n"
   ]
  },
  {
   "cell_type": "code",
   "execution_count": null,
   "metadata": {},
   "outputs": [],
   "source": [
    "# Testing with another row\n",
    "i=120\n",
    "\n",
    "print(\"Last Record #\", int(i / 5 + 1))\n",
    "curp = all_rows[i].text\n",
    "print('CURP:', curp)\n",
    "i = i + 1\n",
    "matricula = all_rows[i].text\n",
    "print('Matrícula:', matricula)\n",
    "i = i + 1\n",
    "nombre = all_rows[i].text\n",
    "print('Nombre:', nombre)\n",
    "i = i + 1\n",
    "cuenta = all_rows[i].text\n",
    "print('Cuenta:', cuenta)\n",
    "i = i + 1\n",
    "grupo = all_rows[i].text\n",
    "print('Grupo:', grupo)\n",
    "i = i + 1"
   ]
  },
  {
   "cell_type": "markdown",
   "metadata": {},
   "source": [
    "### Successful scrapper on page data!"
   ]
  },
  {
   "cell_type": "code",
   "execution_count": null,
   "metadata": {},
   "outputs": [],
   "source": []
  }
 ],
 "metadata": {
  "kernelspec": {
   "display_name": "Python 3",
   "language": "python",
   "name": "python3"
  },
  "language_info": {
   "codemirror_mode": {
    "name": "ipython",
    "version": 3
   },
   "file_extension": ".py",
   "mimetype": "text/x-python",
   "name": "python",
   "nbconvert_exporter": "python",
   "pygments_lexer": "ipython3",
   "version": "3.8.3"
  }
 },
 "nbformat": 4,
 "nbformat_minor": 4
}
