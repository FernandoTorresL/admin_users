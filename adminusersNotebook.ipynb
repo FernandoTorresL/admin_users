{
 "cells": [
  {
   "cell_type": "markdown",
   "metadata": {},
   "source": [
    "# Get all the data from users on Admin"
   ]
  },
  {
   "cell_type": "markdown",
   "metadata": {},
   "source": [
    "## Scraping on a site with login"
   ]
  },
  {
   "cell_type": "code",
   "execution_count": null,
   "metadata": {},
   "outputs": [],
   "source": [
    "# Prepare a function to read the configuration file with the confidential data...\n",
    "# ...because the website is an private website on an Intranet, the production file is config.yaml.\n",
    "# In GitHub there is only a config.yaml.example with dummy data\n",
    "\n",
    "import yaml\n",
    "\n",
    "__config = None\n",
    "\n",
    "def config():\n",
    "\n",
    "    global __config\n",
    "\n",
    "    if not __config:\n",
    "        with open('./scraper_ETL/extract/config.yaml', mode='r') as f:\n",
    "            config = yaml.safe_load(f)\n",
    "\n",
    "    return config\n"
   ]
  },
  {
   "cell_type": "code",
   "execution_count": null,
   "metadata": {
    "scrolled": true
   },
   "outputs": [],
   "source": [
    "# Get the url on the config file\n",
    "host = config()['websites']['admin_users']['url']\n",
    "#host"
   ]
  },
  {
   "cell_type": "code",
   "execution_count": null,
   "metadata": {},
   "outputs": [],
   "source": [
    "#Import selenium\n",
    "#Import selenium\n",
    "from selenium import webdriver\n",
    "from selenium.webdriver.chrome.service import Service as ChromeService\n",
    "from selenium.webdriver.common.by import By\n",
    "from selenium.webdriver.support.select import Select\n",
    "from webdriver_manager.chrome import ChromeDriverManager\n",
    "\n",
    "# Setup driver\n",
    "options = webdriver.ChromeOptions()\n",
    "options.add_argument('--incognito')\n",
    "#driver = webdriver.Chrome(executable_path='./driver/chromedriver', options=options)\n",
    "driver = webdriver.Chrome(service=ChromeService(ChromeDriverManager().install()))\n",
    "\n",
    "# Get the site (driver)\n",
    "driver.get(host)\n"
   ]
  },
  {
   "cell_type": "code",
   "execution_count": null,
   "metadata": {},
   "outputs": [],
   "source": [
    "from selenium import webdriver\n",
    "from selenium.webdriver.firefox.service import Service as FirefoxService\n",
    "from selenium.webdriver.support.select import Select\n",
    "from webdriver_manager.firefox import GeckoDriverManager\n",
    "\n",
    "driver = webdriver.Firefox(\n",
    "    service=FirefoxService(\n",
    "        GeckoDriverManager().install(),\n",
    "    ),\n",
    ")\n"
   ]
  },
  {
   "cell_type": "code",
   "execution_count": null,
   "metadata": {},
   "outputs": [],
   "source": [
    "driver.get(host)"
   ]
  },
  {
   "cell_type": "code",
   "execution_count": null,
   "metadata": {},
   "outputs": [],
   "source": [
    "import argparse\n",
    "import csv\n",
    "import datetime\n",
    "import logging\n",
    "import time\n",
    "\n",
    "# import chromedriver_binary\n",
    "# Import config file\n",
    "from common import config\n",
    "\n",
    "parser = argparse.ArgumentParser()\n",
    "\n",
    "# Build the list of choices\n",
    "websites_choices = list(config()['websites'].keys())\n",
    "parser.add_argument('website',\n",
    "                    help='Argument: The website that you want to scrape',\n",
    "                    type=str,\n",
    "                    choices=websites_choices)\n",
    "\n",
    "# Parser the arguments\n",
    "args = parser.parse_args()\n",
    "_accounts_scraper(args.website)"
   ]
  },
  {
   "cell_type": "code",
   "execution_count": null,
   "metadata": {},
   "outputs": [],
   "source": [
    "driver.find_elements_by_xpath('//input[@name=\"pwd\"]')"
   ]
  },
  {
   "cell_type": "code",
   "execution_count": null,
   "metadata": {},
   "outputs": [],
   "source": [
    "# Get the credential data\n",
    "user = config()['websites']['admin_users']['user']\n",
    "password = config()['websites']['admin_users']['password']\n",
    "\n",
    "bnt_aceptar = config()['websites']['admin_users']['labels']['page01']['bnt_aceptar']\n"
   ]
  },
  {
   "cell_type": "code",
   "execution_count": null,
   "metadata": {},
   "outputs": [],
   "source": [
    "# Login\n",
    "driver.find_element(\"xpath\", \"//input[@name='usuario']\").send_keys(user)\n",
    "driver.find_element(\"xpath\", \"//input[@name='pwd']\").send_keys(password)\n",
    "\n",
    "# Click to login... the element is an input without name and an alt tag defined on config.yaml: \n",
    "    # <input type=\"image\" name src=\"bt_aceptar.gif\" alt=\"Entar al Sistema\">\n",
    "driver.find_element(\"xpath\", \"//input[@alt='\" + bnt_aceptar + \"']\").click()"
   ]
  },
  {
   "cell_type": "markdown",
   "metadata": {},
   "source": [
    "### Successful login!"
   ]
  },
  {
   "cell_type": "markdown",
   "metadata": {},
   "source": [
    "## Navigate to the important data"
   ]
  },
  {
   "cell_type": "code",
   "execution_count": null,
   "metadata": {},
   "outputs": [],
   "source": [
    "# Locate the menu option\n",
    "# <a href=\"javascript:catchSelection(4000);\">Control de Usuarios</a>\n",
    "menu_usuarios = config()['websites']['admin_users']['labels']['page02']['menu_usuarios']\n",
    "\n",
    "driver.find_element(\"xpath\", \"//a[text()='\" + menu_usuarios + \"']\")\n"
   ]
  },
  {
   "cell_type": "code",
   "execution_count": null,
   "metadata": {},
   "outputs": [],
   "source": [
    "driver.find_element(\"xpath\", \"//a[text()='\" + menu_usuarios + \"']\").click()"
   ]
  },
  {
   "cell_type": "code",
   "execution_count": null,
   "metadata": {},
   "outputs": [],
   "source": [
    "# Now, the next element is a select menu, so we need to import Select from Selenium\n",
    "from selenium.webdriver.support.select import Select\n"
   ]
  },
  {
   "cell_type": "code",
   "execution_count": null,
   "metadata": {},
   "outputs": [],
   "source": [
    "# Inspect the select and print the options\n",
    "\n",
    "# First we get the name of the select menu\n",
    "name_select_menu = config()['websites']['admin_users']['labels']['page03']['name_select_menu']\n",
    "\n",
    "test = Select(driver.find_element(\"name\", name_select_menu))\n",
    "# test.select_by_value(\"Consulta de Usuarios\")\n",
    "print(test.options[0].text)\n",
    "print(test.options[1].text)\n",
    "print(test.options[2].text)\n",
    "print(test.options[3].text)\n",
    "print(test.options[4].text)"
   ]
  },
  {
   "cell_type": "code",
   "execution_count": null,
   "metadata": {},
   "outputs": [],
   "source": [
    "# Select the correct option\n",
    "test = Select(driver.find_element(\"name\", name_select_menu))\n",
    "option_select_menu = config()['websites']['admin_users']['labels']['page03']['option_select_menu']\n",
    "test.select_by_value(option_select_menu)"
   ]
  },
  {
   "cell_type": "code",
   "execution_count": null,
   "metadata": {},
   "outputs": [],
   "source": [
    "# Now, we had selected the option on the menu, click on button \"Aceptar\"\n",
    "bnt_entra = config()[\"websites\"][\"admin_users\"][\"labels\"][\"page03\"][\"bnt_entra\"]\n",
    "driver.find_element(\"xpath\", \"//img[@alt='\" + bnt_entra + \"']\").click()"
   ]
  },
  {
   "cell_type": "code",
   "execution_count": null,
   "metadata": {},
   "outputs": [],
   "source": [
    "# Query all the accounts\n",
    "\n",
    "# <img src=\"bt_consulta.gif\" alt=\"Consultar\" ... >\n",
    "# Click on button\n",
    "bnt_cons = config()[\"websites\"][\"admin_users\"][\"labels\"][\"page04\"][\"bnt_cons\"]\n",
    "driver.find_element(\"xpath\", \"//img[@alt='\" + bnt_cons + \"']\").click()"
   ]
  },
  {
   "cell_type": "markdown",
   "metadata": {},
   "source": [
    "## Get the data"
   ]
  },
  {
   "cell_type": "code",
   "execution_count": null,
   "metadata": {},
   "outputs": [],
   "source": [
    "# Inspect pagination\n",
    "\n",
    "# Find element\n",
    "# rows = driver.find_element_by_xpath('//table[@class=\"txt\"]').get_attribute('cellspacing')\n",
    "# rows = driver.find_elements_by_xpath('//table[@class=\"txt\"]/tbody/tr/td/table/tbody/tr') //26 rows (max 13 rows)\n",
    "# Select rows of data without the titles row (not @valign) and even rows // 65 data\n",
    "\n",
    "class_table = config()['websites']['admin_users']['labels']['page05']['class_table']\n",
    "class_td = config()['websites']['admin_users']['labels']['page05']['class_td']\n",
    "even_rows = driver.find_elements_by_xpath('//table[@class=\"' + class_table + '\"]/tbody/tr/td/table/tbody/tr[not(@valign)]/td[@class=\"txtb\"]')\n",
    "\n",
    "len(even_rows)"
   ]
  },
  {
   "cell_type": "code",
   "execution_count": null,
   "metadata": {},
   "outputs": [],
   "source": [
    "# Select rows of data without the titles row (not @valign) and even rows // 60 data (max 12 rows)\n",
    "odd_rows = driver.find_elements_by_xpath('//table[@class=\"' + class_table + '\"]/tbody/tr/td/table/tbody/tr[not(@valign)]/td[@class=\"txt\"]')\n",
    "\n",
    "len(odd_rows)\n"
   ]
  },
  {
   "cell_type": "code",
   "execution_count": null,
   "metadata": {},
   "outputs": [],
   "source": [
    "# Testing with the first and second rows\n",
    "i = 0\n",
    "j = 0\n",
    "\n",
    "curp = even_rows[i].text\n",
    "print('CURP:', curp)\n",
    "i = i + 1\n",
    "matricula = even_rows[i].text\n",
    "print('Matrícula:', matricula)\n",
    "i = i + 1\n",
    "nombre = even_rows[i].text\n",
    "print('Nombre:', nombre)\n",
    "i = i + 1\n",
    "cuenta = even_rows[i].text\n",
    "print('Cuenta:', cuenta)\n",
    "i = i + 1\n",
    "grupo = even_rows[i].text\n",
    "print('Grupo:', grupo)\n",
    "i = i + 1\n",
    "\n",
    "curp = odd_rows[j].text\n",
    "print('CURP:', curp)\n",
    "j = j + 1\n",
    "matricula = odd_rows[j].text\n",
    "print('Matrícula:', matricula)\n",
    "j = j + 1\n",
    "nombre = odd_rows[j].text\n",
    "print('Nombre:', nombre)\n",
    "j = j + 1\n",
    "cuenta = odd_rows[j].text\n",
    "print('Cuenta:', cuenta)\n",
    "j = j + 1\n",
    "grupo = odd_rows[j].text\n",
    "print('Grupo:', grupo)\n",
    "j = j + 1"
   ]
  },
  {
   "cell_type": "code",
   "execution_count": null,
   "metadata": {},
   "outputs": [],
   "source": [
    "# Or, even better, select all the data in the same object with:\n",
    "\n",
    "class_table = config()['websites']['admin_users']['labels']['page05']['class_table']\n",
    "class_td = config()['websites']['admin_users']['labels']['page05']['class_td']\n",
    "\n",
    "all_rows = driver.find_elements_by_xpath('//table[@class=\"' + class_table + '\"]/tbody/tr/td/table/tbody/tr[not(@valign)]/td[contains(@class, \"' + class_td + '\")]')\n",
    "\n",
    "len(all_rows)\n",
    "\n",
    "# //table[@class=\"txt\"]/tbody/tr/td/table/tbody/tr[not(@valign)]/td[contains(@class, \"txt\")]\n",
    "\n"
   ]
  },
  {
   "cell_type": "code",
   "execution_count": null,
   "metadata": {},
   "outputs": [],
   "source": [
    "# Testing with the first and second rows\n",
    "i = 0\n",
    "\n",
    "print(\"Record #\", int(i / 5 + 1))\n",
    "curp = all_rows[i].text\n",
    "print('CURP:', curp)\n",
    "i = i + 1\n",
    "matricula = all_rows[i].text\n",
    "print('Matrícula:', matricula)\n",
    "i = i + 1\n",
    "nombre = all_rows[i].text\n",
    "print('Nombre:', nombre)\n",
    "i = i + 1\n",
    "cuenta = all_rows[i].text\n",
    "print('Cuenta:', cuenta)\n",
    "i = i + 1\n",
    "grupo = all_rows[i].text\n",
    "print('Grupo:', grupo)\n",
    "i = i + 1\n",
    "print(\"\")\n",
    "\n",
    "print(\"Record #\", int(i / 5 + 1))\n",
    "curp = all_rows[i].text\n",
    "print('CURP:', curp)\n",
    "i = i + 1\n",
    "matricula = all_rows[i].text\n",
    "print('Matrícula:', matricula)\n",
    "i = i + 1\n",
    "nombre = all_rows[i].text\n",
    "print('Nombre:', nombre)\n",
    "i = i + 1\n",
    "cuenta = all_rows[i].text\n",
    "print('Cuenta:', cuenta)\n",
    "i = i + 1\n",
    "grupo = all_rows[i].text\n",
    "print('Grupo:', grupo)\n",
    "i = i + 1\n"
   ]
  },
  {
   "cell_type": "code",
   "execution_count": null,
   "metadata": {},
   "outputs": [],
   "source": [
    "# Testing with another row\n",
    "i=120\n",
    "\n",
    "print(\"Last Record #\", int(i / 5 + 1))\n",
    "curp = all_rows[i].text\n",
    "print('CURP:', curp)\n",
    "i = i + 1\n",
    "matricula = all_rows[i].text\n",
    "print('Matrícula:', matricula)\n",
    "i = i + 1\n",
    "nombre = all_rows[i].text\n",
    "print('Nombre:', nombre)\n",
    "i = i + 1\n",
    "cuenta = all_rows[i].text\n",
    "print('Cuenta:', cuenta)\n",
    "i = i + 1\n",
    "grupo = all_rows[i].text\n",
    "print('Grupo:', grupo)\n",
    "i = i + 1"
   ]
  },
  {
   "cell_type": "markdown",
   "metadata": {},
   "source": [
    "### Successful scrapper on page data!"
   ]
  },
  {
   "cell_type": "markdown",
   "metadata": {},
   "source": [
    "## Change to the next page"
   ]
  },
  {
   "cell_type": "code",
   "execution_count": null,
   "metadata": {},
   "outputs": [],
   "source": [
    "# Count the pages...\n",
    "class_td = config()['websites']['admin_users']['labels']['page05']['class_td']\n",
    "class_a = config()['websites']['admin_users']['labels']['page05']['class_a']\n",
    "pages = driver.find_element_by_xpath('//td[@class=\"' + class_td + '\"]').find_elements_by_xpath('//a[@class=\"' + class_a + '\"]')\n",
    "pages"
   ]
  },
  {
   "cell_type": "code",
   "execution_count": null,
   "metadata": {},
   "outputs": [],
   "source": [
    "initial_page = pages[0]\n",
    "initial_page.text"
   ]
  },
  {
   "cell_type": "code",
   "execution_count": null,
   "metadata": {},
   "outputs": [],
   "source": [
    "final_page = pages[1]\n",
    "final_page.text"
   ]
  },
  {
   "cell_type": "code",
   "execution_count": null,
   "metadata": {},
   "outputs": [],
   "source": [
    "\n",
    "    # Get the url of the website (parameter)\n",
    "    pagination01 = config()['websites']['admin_users']['labels']['page01']['url_pagination01']\n",
    "    pagination02 = config()['websites']['admin_users']['labels']['page01']['url_pagination02']\n",
    "    pagination = pagination01 + \"0\" + pagination02 + \"1\"\n",
    "    pagination"
   ]
  },
  {
   "cell_type": "code",
   "execution_count": null,
   "metadata": {},
   "outputs": [],
   "source": [
    "# Change to page 2 and so on...\n",
    "# ...get the link to next page\n",
    "\n",
    "initial_page.get_attribute('href')"
   ]
  },
  {
   "cell_type": "code",
   "execution_count": null,
   "metadata": {},
   "outputs": [],
   "source": [
    "# Change to next page\n",
    "\n",
    "initial_page.click()\n"
   ]
  },
  {
   "cell_type": "code",
   "execution_count": null,
   "metadata": {},
   "outputs": [],
   "source": [
    "# Count the pages...\n",
    "class_td = config()['websites']['admin_users']['labels']['page05']['class_td']\n",
    "class_a = config()['websites']['admin_users']['labels']['page05']['class_a']\n",
    "pages = driver.find_element_by_xpath('//td[@class=\"' + class_td + '\"]').find_elements_by_xpath('//a[@class=\"' + class_a + '\"]')\n",
    "len(pages)\n"
   ]
  },
  {
   "cell_type": "code",
   "execution_count": null,
   "metadata": {},
   "outputs": [],
   "source": [
    "print(pages[0].text)\n",
    "print(pages[1].text)\n",
    "print(pages[2].text)"
   ]
  },
  {
   "cell_type": "code",
   "execution_count": null,
   "metadata": {},
   "outputs": [],
   "source": [
    "pages[1].click()"
   ]
  },
  {
   "cell_type": "code",
   "execution_count": null,
   "metadata": {},
   "outputs": [],
   "source": [
    "# Count the pages...\n",
    "class_td = config()['websites']['admin_users']['labels']['page05']['class_td']\n",
    "class_a = config()['websites']['admin_users']['labels']['page05']['class_a']\n",
    "pages = driver.find_element_by_xpath('//td[@class=\"' + class_td + '\"]').find_elements_by_xpath('//a[@class=\"' + class_a + '\"]')\n",
    "len(pages)"
   ]
  },
  {
   "cell_type": "code",
   "execution_count": null,
   "metadata": {},
   "outputs": [],
   "source": [
    "print(pages[0].text)\n",
    "print(pages[1].text)\n",
    "print(pages[2].text)\n",
    "print(pages[3].text)"
   ]
  },
  {
   "cell_type": "code",
   "execution_count": null,
   "metadata": {},
   "outputs": [],
   "source": [
    "pages[2].click()"
   ]
  },
  {
   "cell_type": "code",
   "execution_count": null,
   "metadata": {},
   "outputs": [],
   "source": [
    "# Again, select all the data in the same object with:\n",
    "\n",
    "all_rows = driver.find_elements_by_xpath('//table[@class=\"' + class_table + '\"]/tbody/tr/td/table/tbody/tr[not(@valign)]/td[contains(@class, \"' + class_td + '\")]')\n",
    "\n",
    "len(all_rows)"
   ]
  },
  {
   "cell_type": "code",
   "execution_count": null,
   "metadata": {},
   "outputs": [],
   "source": [
    "# Testing with the first and second rows\n",
    "i = 0\n",
    "\n",
    "print(\"Record #\", int(i / 5 + 1))\n",
    "curp = all_rows[i].text\n",
    "print('CURP:', curp)\n",
    "i = i + 1\n",
    "matricula = all_rows[i].text\n",
    "print('Matrícula:', matricula)\n",
    "i = i + 1\n",
    "nombre = all_rows[i].text\n",
    "print('Nombre:', nombre)\n",
    "i = i + 1\n",
    "cuenta = all_rows[i].text\n",
    "print('Cuenta:', cuenta)\n",
    "i = i + 1\n",
    "grupo = all_rows[i].text\n",
    "print('Grupo:', grupo)\n",
    "i = i + 1\n",
    "print(\"\")\n",
    "\n",
    "print(\"Record #\", int(i / 5 + 1))\n",
    "curp = all_rows[i].text\n",
    "print('CURP:', curp)\n",
    "i = i + 1\n",
    "matricula = all_rows[i].text\n",
    "print('Matrícula:', matricula)\n",
    "i = i + 1\n",
    "nombre = all_rows[i].text\n",
    "print('Nombre:', nombre)\n",
    "i = i + 1\n",
    "cuenta = all_rows[i].text\n",
    "print('Cuenta:', cuenta)\n",
    "i = i + 1\n",
    "grupo = all_rows[i].text\n",
    "print('Grupo:', grupo)\n",
    "i = i + 1"
   ]
  },
  {
   "cell_type": "markdown",
   "metadata": {},
   "source": [
    "### Get each account details"
   ]
  },
  {
   "cell_type": "code",
   "execution_count": null,
   "metadata": {},
   "outputs": [],
   "source": [
    "lista_cuentas = []"
   ]
  },
  {
   "cell_type": "code",
   "execution_count": null,
   "metadata": {},
   "outputs": [],
   "source": [
    "for account in lista_cuentas:\n",
    "    print(account)\n",
    "    \n",
    "    "
   ]
  },
  {
   "cell_type": "code",
   "execution_count": null,
   "metadata": {},
   "outputs": [],
   "source": [
    "driver.find_element(\"name\", \"id_login\").send_keys(\"\")\n",
    "base_config = config()[\"websites\"][\"admin_users\"][\"labels\"]\n",
    "bnt_cons = base_config[\"page04\"][\"bnt_cons\"]\n",
    "driver.find_element(\n",
    "    \"xpath\",\n",
    "    '//img[@alt=\"' + bnt_cons + '\"]',\n",
    ").click()"
   ]
  },
  {
   "cell_type": "code",
   "execution_count": null,
   "metadata": {},
   "outputs": [],
   "source": [
    "# Repetir lo siguiente para cada registro:\n",
    "\n",
    "# Select Consulta \"navigate_to_data2\"\n",
    "base_config = config()[\"websites\"][\"admin_users\"][\"labels\"]\n",
    "name_select_menu = base_config[\"page03\"][\"name_select_menu\"]\n",
    "\n",
    "# ... Select the correct option\n",
    "test = Select(driver.find_element(\"name\", name_select_menu))\n",
    "option_select_menu = base_config[\"page03\"][\"option_select_menu\"]\n",
    "test.select_by_value(option_select_menu)\n",
    "\n",
    "# Now, we had selected the option on the menu, click on button \"Aceptar\"\n",
    "bnt_entra = base_config[\"page03\"][\"bnt_entra\"]\n",
    "driver.find_element(\n",
    "    \"xpath\",\n",
    "    '//img[@alt=\"' + bnt_entra + '\"]',\n",
    ").click()"
   ]
  },
  {
   "cell_type": "code",
   "execution_count": null,
   "metadata": {},
   "outputs": [],
   "source": [
    "driver.find_element(\"name\", \"id_login\").send_keys(\"RMTR099\")"
   ]
  },
  {
   "cell_type": "code",
   "execution_count": null,
   "metadata": {},
   "outputs": [],
   "source": [
    "base_config = config()[\"websites\"][\"admin_users\"][\"labels\"]\n",
    "bnt_cons = base_config[\"page04\"][\"bnt_cons\"]\n",
    "driver.find_element(\n",
    "    \"xpath\",\n",
    "    '//img[@alt=\"' + bnt_cons + '\"]',\n",
    ").click()"
   ]
  },
  {
   "cell_type": "code",
   "execution_count": null,
   "metadata": {},
   "outputs": [],
   "source": [
    "input_curp = driver.find_element(\"name\", \"curp\")\n",
    "curp = input_curp.get_attribute(\"value\")\n",
    "curp"
   ]
  },
  {
   "cell_type": "code",
   "execution_count": null,
   "metadata": {},
   "outputs": [],
   "source": [
    "matricula = driver.find_element(\n",
    "    \"name\",\n",
    "    \"matricula\",\n",
    ").get_attribute(\"value\")\n",
    "matricula"
   ]
  },
  {
   "cell_type": "code",
   "execution_count": null,
   "metadata": {},
   "outputs": [],
   "source": [
    "area = Select(\n",
    "    driver.find_element(\"name\", \"area\"),\n",
    ").first_selected_option.text\n",
    "\n",
    "genero = Select(\n",
    "    driver.find_element(\"name\", \"genero\"),\n",
    ").first_selected_option.text\n",
    "\n",
    "nombre = driver.find_element(\n",
    "    \"name\",\n",
    "    \"nombre\",\n",
    ").get_attribute(\"value\")\n",
    "\n",
    "apellido_pat = driver.find_element(\n",
    "    \"name\",\n",
    "    \"apellidoPat\",\n",
    ").get_attribute(\"value\")\n",
    "\n",
    "apellido_mat = driver.find_element(\n",
    "    \"name\",\n",
    "    \"apellidoMat\",\n",
    ").get_attribute(\"value\")\n",
    "\n",
    "telefono = driver.find_element(\n",
    "    \"name\",\n",
    "    \"telefono\",\n",
    ").get_attribute(\"value\")\n",
    "\n",
    "email = driver.find_element(\n",
    "    \"name\",\n",
    "    \"email\",\n",
    ").get_attribute(\"value\")\n",
    "\n",
    "grupo = Select(\n",
    "    driver.find_element(\n",
    "        \"name\",\n",
    "        \"idGrupo\",\n",
    "    )\n",
    ").first_selected_option.text\n",
    "\n",
    "usrnametxt = driver.find_element(\n",
    "    \"name\",\n",
    "    \"usrnametxt\",\n",
    ").get_attribute(\"value\")\n",
    "\n",
    "detalle_cuenta = dict(\n",
    "    curp=curp,\n",
    "    matricula=matricula,\n",
    "    area=area,\n",
    "    genero=genero,\n",
    "    nombre=nombre,\n",
    "    apellido_p=apellido_pat,\n",
    "    apellido_m=apellido_mat,\n",
    "    telefono=telefono,\n",
    "    email=email,\n",
    "    grupo=grupo,\n",
    "    usuario=usrnametxt,\n",
    ")\n",
    "\n",
    "detalle_cuenta"
   ]
  },
  {
   "cell_type": "code",
   "execution_count": null,
   "metadata": {},
   "outputs": [],
   "source": [
    "# Click on \"Regresar\"\n",
    "\n",
    "driver.find_element(\n",
    "    \"xpath\",\n",
    "    \"/html/body/form/table[3]/tbody/tr[2]/td/img[1]\",\n",
    ").click()\n",
    "\n",
    "# Repetir este ciclo"
   ]
  },
  {
   "cell_type": "markdown",
   "metadata": {},
   "source": [
    "### It works!"
   ]
  },
  {
   "cell_type": "code",
   "execution_count": null,
   "metadata": {},
   "outputs": [],
   "source": []
  }
 ],
 "metadata": {
  "kernelspec": {
   "display_name": "Python 3 (ipykernel)",
   "language": "python",
   "name": "python3"
  },
  "language_info": {
   "codemirror_mode": {
    "name": "ipython",
    "version": 3
   },
   "file_extension": ".py",
   "mimetype": "text/x-python",
   "name": "python",
   "nbconvert_exporter": "python",
   "pygments_lexer": "ipython3",
   "version": "3.11.4"
  },
  "vscode": {
   "interpreter": {
    "hash": "edaa7f33b7fa16161be051bdb71645754e3edf30b83a9fc9554d692b12b45dde"
   }
  }
 },
 "nbformat": 4,
 "nbformat_minor": 4
}
