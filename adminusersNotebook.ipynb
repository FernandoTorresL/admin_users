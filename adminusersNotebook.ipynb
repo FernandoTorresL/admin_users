{
 "cells": [
  {
   "cell_type": "markdown",
   "metadata": {},
   "source": [
    "# Get all the data from users on Admin"
   ]
  },
  {
   "cell_type": "markdown",
   "metadata": {},
   "source": [
    "## Scraping on a site with login"
   ]
  },
  {
   "cell_type": "code",
   "execution_count": 1,
   "metadata": {},
   "outputs": [],
   "source": [
    "# Prepare a function to read the configuration file with the confidential data...\n",
    "# ...because the website is an private website on an Intranet, the production file is config.yaml.\n",
    "# In GitHub there is only a config.yaml.example with dummy data\n",
    "\n",
    "import yaml\n",
    "\n",
    "__config = None\n",
    "\n",
    "def config():\n",
    "\n",
    "    global __config\n",
    "\n",
    "    if not __config:\n",
    "        with open('./scraper_ETL/extract/config.yaml', mode='r') as f:\n",
    "            config = yaml.safe_load(f)\n",
    "\n",
    "    return config\n"
   ]
  },
  {
   "cell_type": "code",
   "execution_count": 5,
   "metadata": {
    "scrolled": true
   },
   "outputs": [],
   "source": [
    "# Get the url on the config file\n",
    "host = config()['websites']['admin_users']['url']\n",
    "#host"
   ]
  },
  {
   "cell_type": "code",
   "execution_count": 6,
   "metadata": {},
   "outputs": [],
   "source": [
    "#Import selenium\n",
    "from selenium import webdriver\n",
    "\n",
    "# Setup driver\n",
    "options = webdriver.ChromeOptions()\n",
    "options.add_argument('--incognito')\n",
    "driver = webdriver.Chrome(executable_path='./driver/chromedriver', options=options)\n",
    "\n",
    "# Get the site\n",
    "driver.get(host)\n"
   ]
  },
  {
   "cell_type": "code",
   "execution_count": 7,
   "metadata": {},
   "outputs": [
    {
     "data": {
      "text/plain": [
       "[<selenium.webdriver.remote.webelement.WebElement (session=\"0d6235cccfba10e236c9ae4d07db3ba8\", element=\"b4b9728f-8193-4f76-90ab-9085f1ef77e0\")>]"
      ]
     },
     "execution_count": 7,
     "metadata": {},
     "output_type": "execute_result"
    }
   ],
   "source": [
    "# Setup login\n",
    "# Find the login elements and ensure that there are only one of each type\n",
    "\n",
    "driver.find_elements_by_xpath('//input[@name=\"usuario\"]')\n"
   ]
  },
  {
   "cell_type": "code",
   "execution_count": 8,
   "metadata": {},
   "outputs": [
    {
     "data": {
      "text/plain": [
       "[<selenium.webdriver.remote.webelement.WebElement (session=\"0d6235cccfba10e236c9ae4d07db3ba8\", element=\"e1ab0c77-05b3-4544-a185-a7e089f8be05\")>]"
      ]
     },
     "execution_count": 8,
     "metadata": {},
     "output_type": "execute_result"
    }
   ],
   "source": [
    "driver.find_elements_by_xpath('//input[@name=\"pwd\"]')"
   ]
  },
  {
   "cell_type": "code",
   "execution_count": 34,
   "metadata": {},
   "outputs": [],
   "source": [
    "# Get the credential data\n",
    "user = config()['websites']['admin_users']['user']\n",
    "password = config()['websites']['admin_users']['password']\n",
    "\n",
    "alt_bntAceptarLogin = config()['websites']['admin_users']['labels']['page01']['alt_bntAceptarLogin']\n"
   ]
  },
  {
   "cell_type": "code",
   "execution_count": 35,
   "metadata": {},
   "outputs": [],
   "source": [
    "# Login\n",
    "driver.find_element_by_xpath('//input[@name=\"usuario\"]').send_keys(user)\n",
    "driver.find_element_by_xpath('//input[@name=\"pwd\"]').send_keys(password)\n",
    "\n",
    "# Click to login... the element is an input without name and an alt tag defined on config.yaml: \n",
    "    # <input type=\"image\" name src=\"bt_aceptar.gif\" alt=\"Entar al Sistema\">\n",
    "driver.find_element_by_xpath('//input[@alt=\"' + alt_bntAceptarLogin + '\"]').click()"
   ]
  },
  {
   "cell_type": "markdown",
   "metadata": {},
   "source": [
    "### Successful login!"
   ]
  },
  {
   "cell_type": "markdown",
   "metadata": {},
   "source": [
    "## Navigate to the important data"
   ]
  },
  {
   "cell_type": "code",
   "execution_count": 36,
   "metadata": {},
   "outputs": [
    {
     "data": {
      "text/plain": [
       "<selenium.webdriver.remote.webelement.WebElement (session=\"0d6235cccfba10e236c9ae4d07db3ba8\", element=\"3f1e8066-1865-430a-8133-2bd87f02352d\")>"
      ]
     },
     "execution_count": 36,
     "metadata": {},
     "output_type": "execute_result"
    }
   ],
   "source": [
    "# Locate the menu option\n",
    "# <a href=\"javascript:catchSelection(4000);\">Control de Usuarios</a>\n",
    "text_menuCtrlUsuarios = config()['websites']['admin_users']['labels']['page02']['text_menuCtrlUsuarios']\n",
    "\n",
    "driver.find_element_by_xpath('//a[text()=\"' + text_menuCtrlUsuarios + '\"]')"
   ]
  },
  {
   "cell_type": "code",
   "execution_count": 37,
   "metadata": {},
   "outputs": [],
   "source": [
    "driver.find_element_by_xpath('//a[text()=\"' + text_menuCtrlUsuarios + '\"]').click()"
   ]
  },
  {
   "cell_type": "code",
   "execution_count": 38,
   "metadata": {},
   "outputs": [],
   "source": [
    "# Now, the next element is a select menu, so we need to import Select from Selenium\n",
    "from selenium.webdriver.support.select import Select\n"
   ]
  },
  {
   "cell_type": "code",
   "execution_count": 39,
   "metadata": {},
   "outputs": [
    {
     "name": "stdout",
     "output_type": "stream",
     "text": [
      "Seleccione\n",
      "Alta de Usuarios\n",
      "Baja de Usuarios\n",
      "Modificar Usuarios\n",
      "Consulta de Usuarios\n"
     ]
    }
   ],
   "source": [
    "# Inspect the select and print the options\n",
    "\n",
    "# First we get the name of the select menu\n",
    "name_selectMenu = config()['websites']['admin_users']['labels']['page03']['name_selectMenu']\n",
    "\n",
    "test = Select(driver.find_element_by_name(name_selectMenu))\n",
    "# test.select_by_value(\"Consulta de Usuarios\")\n",
    "print(test.options[0].text)\n",
    "print(test.options[1].text)\n",
    "print(test.options[2].text)\n",
    "print(test.options[3].text)\n",
    "print(test.options[4].text)"
   ]
  },
  {
   "cell_type": "code",
   "execution_count": 40,
   "metadata": {},
   "outputs": [],
   "source": [
    "# Select the correct option\n",
    "test = Select(driver.find_element_by_name(name_selectMenu))\n",
    "option_selectMenu = config()['websites']['admin_users']['labels']['page03']['option_selectMenu']\n",
    "test.select_by_value(option_selectMenu)"
   ]
  },
  {
   "cell_type": "code",
   "execution_count": 41,
   "metadata": {},
   "outputs": [],
   "source": [
    "# Now, we had selected the option on the menu, click on button \"Aceptar\"\n",
    "alt_bntAceptarSelect = config()['websites']['admin_users']['labels']['page03']['alt_bntAceptarSelect']\n",
    "driver.find_element_by_xpath('//img[@alt=\"' + alt_bntAceptarSelect + '\"]').click()"
   ]
  },
  {
   "cell_type": "code",
   "execution_count": 42,
   "metadata": {},
   "outputs": [],
   "source": [
    "# Query all the accounts\n",
    "\n",
    "# <img src=\"bt_consulta.gif\" alt=\"Consultar\" ... >\n",
    "# Click on button\n",
    "alt_bntConsulta = config()['websites']['admin_users']['labels']['page04']['alt_bntConsulta']\n",
    "driver.find_element_by_xpath('//img[@alt=\"' + alt_bntConsulta + '\"]').click()"
   ]
  },
  {
   "cell_type": "markdown",
   "metadata": {},
   "source": [
    "## Get the data"
   ]
  },
  {
   "cell_type": "code",
   "execution_count": 20,
   "metadata": {},
   "outputs": [
    {
     "data": {
      "text/plain": [
       "65"
      ]
     },
     "execution_count": 20,
     "metadata": {},
     "output_type": "execute_result"
    }
   ],
   "source": [
    "# Inspect pagination\n",
    "\n",
    "# Find element\n",
    "# rows = driver.find_element_by_xpath('//table[@class=\"txt\"]').get_attribute('cellspacing')\n",
    "# rows = driver.find_elements_by_xpath('//table[@class=\"txt\"]/tbody/tr/td/table/tbody/tr') //26 rows (max 13 rows)\n",
    "# Select rows of data without the titles row (not @valign) and even rows // 65 data\n",
    "\n",
    "class_table = config()['websites']['admin_users']['labels']['page05']['class_table']\n",
    "class_td = config()['websites']['admin_users']['labels']['page05']['class_td']\n",
    "even_rows = driver.find_elements_by_xpath('//table[@class=\"' + class_table + '\"]/tbody/tr/td/table/tbody/tr[not(@valign)]/td[@class=\"txtb\"]')\n",
    "\n",
    "len(even_rows)"
   ]
  },
  {
   "cell_type": "code",
   "execution_count": 21,
   "metadata": {},
   "outputs": [
    {
     "data": {
      "text/plain": [
       "60"
      ]
     },
     "execution_count": 21,
     "metadata": {},
     "output_type": "execute_result"
    }
   ],
   "source": [
    "# Select rows of data without the titles row (not @valign) and even rows // 60 data (max 12 rows)\n",
    "odd_rows = driver.find_elements_by_xpath('//table[@class=\"' + class_table + '\"]/tbody/tr/td/table/tbody/tr[not(@valign)]/td[@class=\"txt\"]')\n",
    "\n",
    "len(odd_rows)\n"
   ]
  },
  {
   "cell_type": "code",
   "execution_count": null,
   "metadata": {},
   "outputs": [],
   "source": [
    "# Testing with the first and second rows\n",
    "i = 0\n",
    "j = 0\n",
    "\n",
    "curp = even_rows[i].text\n",
    "print('CURP:', curp)\n",
    "i = i + 1\n",
    "matricula = even_rows[i].text\n",
    "print('Matrícula:', matricula)\n",
    "i = i + 1\n",
    "nombre = even_rows[i].text\n",
    "print('Nombre:', nombre)\n",
    "i = i + 1\n",
    "cuenta = even_rows[i].text\n",
    "print('Cuenta:', cuenta)\n",
    "i = i + 1\n",
    "grupo = even_rows[i].text\n",
    "print('Grupo:', grupo)\n",
    "i = i + 1\n",
    "\n",
    "curp = odd_rows[j].text\n",
    "print('CURP:', curp)\n",
    "j = j + 1\n",
    "matricula = odd_rows[j].text\n",
    "print('Matrícula:', matricula)\n",
    "j = j + 1\n",
    "nombre = odd_rows[j].text\n",
    "print('Nombre:', nombre)\n",
    "j = j + 1\n",
    "cuenta = odd_rows[j].text\n",
    "print('Cuenta:', cuenta)\n",
    "j = j + 1\n",
    "grupo = odd_rows[j].text\n",
    "print('Grupo:', grupo)\n",
    "j = j + 1"
   ]
  },
  {
   "cell_type": "code",
   "execution_count": 73,
   "metadata": {},
   "outputs": [
    {
     "data": {
      "text/plain": [
       "25"
      ]
     },
     "execution_count": 73,
     "metadata": {},
     "output_type": "execute_result"
    }
   ],
   "source": [
    "# Or, even better, select all the data in the same object with:\n",
    "\n",
    "class_table = config()['websites']['admin_users']['labels']['page05']['class_table']\n",
    "class_td = config()['websites']['admin_users']['labels']['page05']['class_td']\n",
    "\n",
    "all_rows = driver.find_elements_by_xpath('//table[@class=\"' + class_table + '\"]/tbody/tr/td/table/tbody/tr[not(@valign)]/td[contains(@class, \"' + class_td + '\")]')\n",
    "\n",
    "len(all_rows)\n",
    "\n",
    "# //table[@class=\"txt\"]/tbody/tr/td/table/tbody/tr[not(@valign)]/td[contains(@class, \"txt\")]\n",
    "\n"
   ]
  },
  {
   "cell_type": "code",
   "execution_count": null,
   "metadata": {},
   "outputs": [],
   "source": [
    "# Testing with the first and second rows\n",
    "i = 0\n",
    "\n",
    "print(\"Record #\", int(i / 5 + 1))\n",
    "curp = all_rows[i].text\n",
    "print('CURP:', curp)\n",
    "i = i + 1\n",
    "matricula = all_rows[i].text\n",
    "print('Matrícula:', matricula)\n",
    "i = i + 1\n",
    "nombre = all_rows[i].text\n",
    "print('Nombre:', nombre)\n",
    "i = i + 1\n",
    "cuenta = all_rows[i].text\n",
    "print('Cuenta:', cuenta)\n",
    "i = i + 1\n",
    "grupo = all_rows[i].text\n",
    "print('Grupo:', grupo)\n",
    "i = i + 1\n",
    "print(\"\")\n",
    "\n",
    "print(\"Record #\", int(i / 5 + 1))\n",
    "curp = all_rows[i].text\n",
    "print('CURP:', curp)\n",
    "i = i + 1\n",
    "matricula = all_rows[i].text\n",
    "print('Matrícula:', matricula)\n",
    "i = i + 1\n",
    "nombre = all_rows[i].text\n",
    "print('Nombre:', nombre)\n",
    "i = i + 1\n",
    "cuenta = all_rows[i].text\n",
    "print('Cuenta:', cuenta)\n",
    "i = i + 1\n",
    "grupo = all_rows[i].text\n",
    "print('Grupo:', grupo)\n",
    "i = i + 1\n"
   ]
  },
  {
   "cell_type": "code",
   "execution_count": null,
   "metadata": {},
   "outputs": [],
   "source": [
    "# Testing with another row\n",
    "i=120\n",
    "\n",
    "print(\"Last Record #\", int(i / 5 + 1))\n",
    "curp = all_rows[i].text\n",
    "print('CURP:', curp)\n",
    "i = i + 1\n",
    "matricula = all_rows[i].text\n",
    "print('Matrícula:', matricula)\n",
    "i = i + 1\n",
    "nombre = all_rows[i].text\n",
    "print('Nombre:', nombre)\n",
    "i = i + 1\n",
    "cuenta = all_rows[i].text\n",
    "print('Cuenta:', cuenta)\n",
    "i = i + 1\n",
    "grupo = all_rows[i].text\n",
    "print('Grupo:', grupo)\n",
    "i = i + 1"
   ]
  },
  {
   "cell_type": "markdown",
   "metadata": {},
   "source": [
    "### Successful scrapper on page data!"
   ]
  },
  {
   "cell_type": "markdown",
   "metadata": {},
   "source": [
    "## Change to the next page"
   ]
  },
  {
   "cell_type": "code",
   "execution_count": 91,
   "metadata": {},
   "outputs": [
    {
     "data": {
      "text/plain": [
       "[<selenium.webdriver.remote.webelement.WebElement (session=\"0d6235cccfba10e236c9ae4d07db3ba8\", element=\"d60abb0e-f2cb-4f45-9f4d-cc433d0b7353\")>,\n",
       " <selenium.webdriver.remote.webelement.WebElement (session=\"0d6235cccfba10e236c9ae4d07db3ba8\", element=\"79e12ac3-fe16-4a3d-b03c-207b58d22bf4\")>,\n",
       " <selenium.webdriver.remote.webelement.WebElement (session=\"0d6235cccfba10e236c9ae4d07db3ba8\", element=\"8d4bfc27-e10e-4bf3-b166-0962652475ff\")>]"
      ]
     },
     "execution_count": 91,
     "metadata": {},
     "output_type": "execute_result"
    }
   ],
   "source": [
    "# Count the pages...\n",
    "class_td = config()['websites']['admin_users']['labels']['page05']['class_td']\n",
    "class_a = config()['websites']['admin_users']['labels']['page05']['class_a']\n",
    "pages = driver.find_element_by_xpath('//td[@class=\"' + class_td + '\"]').find_elements_by_xpath('//a[@class=\"' + class_a + '\"]')\n",
    "pages"
   ]
  },
  {
   "cell_type": "code",
   "execution_count": 90,
   "metadata": {},
   "outputs": [
    {
     "data": {
      "text/plain": [
       "'2'"
      ]
     },
     "execution_count": 90,
     "metadata": {},
     "output_type": "execute_result"
    }
   ],
   "source": [
    "initial_page = pages[0]\n",
    "initial_page.text"
   ]
  },
  {
   "cell_type": "code",
   "execution_count": 45,
   "metadata": {},
   "outputs": [
    {
     "data": {
      "text/plain": [
       "'37'"
      ]
     },
     "execution_count": 45,
     "metadata": {},
     "output_type": "execute_result"
    }
   ],
   "source": [
    "final_page = pages[1]\n",
    "final_page.text"
   ]
  },
  {
   "cell_type": "code",
   "execution_count": 46,
   "metadata": {},
   "outputs": [
    {
     "data": {
      "text/plain": [
       "'http://11.254.172.131:8970/GateAdministrator/sort.do?layoutCollection=0&layoutCollectionProperty=&layoutCollectionState=0&pagerPage=1'"
      ]
     },
     "execution_count": 46,
     "metadata": {},
     "output_type": "execute_result"
    }
   ],
   "source": [
    "# Change to page 2 and so on...\n",
    "# ...get the link to next page\n",
    "\n",
    "initial_page.get_attribute('href')"
   ]
  },
  {
   "cell_type": "code",
   "execution_count": 47,
   "metadata": {},
   "outputs": [],
   "source": [
    "# Change to next page\n",
    "\n",
    "initial_page.click()\n"
   ]
  },
  {
   "cell_type": "code",
   "execution_count": 83,
   "metadata": {},
   "outputs": [
    {
     "data": {
      "text/plain": [
       "4"
      ]
     },
     "execution_count": 83,
     "metadata": {},
     "output_type": "execute_result"
    }
   ],
   "source": [
    "# Count the pages...\n",
    "class_td = config()['websites']['admin_users']['labels']['page05']['class_td']\n",
    "class_a = config()['websites']['admin_users']['labels']['page05']['class_a']\n",
    "pages = driver.find_element_by_xpath('//td[@class=\"' + class_td + '\"]').find_elements_by_xpath('//a[@class=\"' + class_a + '\"]')\n",
    "len(pages)\n"
   ]
  },
  {
   "cell_type": "code",
   "execution_count": 81,
   "metadata": {},
   "outputs": [
    {
     "name": "stdout",
     "output_type": "stream",
     "text": [
      "1\n",
      "3\n",
      "37\n"
     ]
    }
   ],
   "source": [
    "print(pages[0].text)\n",
    "print(pages[1].text)\n",
    "print(pages[2].text)"
   ]
  },
  {
   "cell_type": "code",
   "execution_count": 82,
   "metadata": {},
   "outputs": [],
   "source": [
    "pages[1].click()"
   ]
  },
  {
   "cell_type": "code",
   "execution_count": 92,
   "metadata": {},
   "outputs": [
    {
     "data": {
      "text/plain": [
       "3"
      ]
     },
     "execution_count": 92,
     "metadata": {},
     "output_type": "execute_result"
    }
   ],
   "source": [
    "# Count the pages...\n",
    "class_td = config()['websites']['admin_users']['labels']['page05']['class_td']\n",
    "class_a = config()['websites']['admin_users']['labels']['page05']['class_a']\n",
    "pages = driver.find_element_by_xpath('//td[@class=\"' + class_td + '\"]').find_elements_by_xpath('//a[@class=\"' + class_a + '\"]')\n",
    "len(pages)"
   ]
  },
  {
   "cell_type": "code",
   "execution_count": 93,
   "metadata": {},
   "outputs": [
    {
     "name": "stdout",
     "output_type": "stream",
     "text": [
      "1\n",
      "35\n",
      "37\n"
     ]
    },
    {
     "ename": "IndexError",
     "evalue": "list index out of range",
     "output_type": "error",
     "traceback": [
      "\u001b[1;31m---------------------------------------------------------------------------\u001b[0m",
      "\u001b[1;31mIndexError\u001b[0m                                Traceback (most recent call last)",
      "\u001b[1;32m<ipython-input-93-0e2b5bd58918>\u001b[0m in \u001b[0;36m<module>\u001b[1;34m\u001b[0m\n\u001b[0;32m      2\u001b[0m \u001b[0mprint\u001b[0m\u001b[1;33m(\u001b[0m\u001b[0mpages\u001b[0m\u001b[1;33m[\u001b[0m\u001b[1;36m1\u001b[0m\u001b[1;33m]\u001b[0m\u001b[1;33m.\u001b[0m\u001b[0mtext\u001b[0m\u001b[1;33m)\u001b[0m\u001b[1;33m\u001b[0m\u001b[1;33m\u001b[0m\u001b[0m\n\u001b[0;32m      3\u001b[0m \u001b[0mprint\u001b[0m\u001b[1;33m(\u001b[0m\u001b[0mpages\u001b[0m\u001b[1;33m[\u001b[0m\u001b[1;36m2\u001b[0m\u001b[1;33m]\u001b[0m\u001b[1;33m.\u001b[0m\u001b[0mtext\u001b[0m\u001b[1;33m)\u001b[0m\u001b[1;33m\u001b[0m\u001b[1;33m\u001b[0m\u001b[0m\n\u001b[1;32m----> 4\u001b[1;33m \u001b[0mprint\u001b[0m\u001b[1;33m(\u001b[0m\u001b[0mpages\u001b[0m\u001b[1;33m[\u001b[0m\u001b[1;36m3\u001b[0m\u001b[1;33m]\u001b[0m\u001b[1;33m.\u001b[0m\u001b[0mtext\u001b[0m\u001b[1;33m)\u001b[0m\u001b[1;33m\u001b[0m\u001b[1;33m\u001b[0m\u001b[0m\n\u001b[0m",
      "\u001b[1;31mIndexError\u001b[0m: list index out of range"
     ]
    }
   ],
   "source": [
    "print(pages[0].text)\n",
    "print(pages[1].text)\n",
    "print(pages[2].text)\n",
    "print(pages[3].text)"
   ]
  },
  {
   "cell_type": "code",
   "execution_count": 71,
   "metadata": {},
   "outputs": [],
   "source": [
    "pages[2].click()"
   ]
  },
  {
   "cell_type": "code",
   "execution_count": 72,
   "metadata": {},
   "outputs": [
    {
     "data": {
      "text/plain": [
       "25"
      ]
     },
     "execution_count": 72,
     "metadata": {},
     "output_type": "execute_result"
    }
   ],
   "source": [
    "# Again, select all the data in the same object with:\n",
    "\n",
    "all_rows = driver.find_elements_by_xpath('//table[@class=\"' + class_table + '\"]/tbody/tr/td/table/tbody/tr[not(@valign)]/td[contains(@class, \"' + class_td + '\")]')\n",
    "\n",
    "len(all_rows)"
   ]
  },
  {
   "cell_type": "code",
   "execution_count": null,
   "metadata": {},
   "outputs": [],
   "source": [
    "# Testing with the first and second rows\n",
    "i = 0\n",
    "\n",
    "print(\"Record #\", int(i / 5 + 1))\n",
    "curp = all_rows[i].text\n",
    "print('CURP:', curp)\n",
    "i = i + 1\n",
    "matricula = all_rows[i].text\n",
    "print('Matrícula:', matricula)\n",
    "i = i + 1\n",
    "nombre = all_rows[i].text\n",
    "print('Nombre:', nombre)\n",
    "i = i + 1\n",
    "cuenta = all_rows[i].text\n",
    "print('Cuenta:', cuenta)\n",
    "i = i + 1\n",
    "grupo = all_rows[i].text\n",
    "print('Grupo:', grupo)\n",
    "i = i + 1\n",
    "print(\"\")\n",
    "\n",
    "print(\"Record #\", int(i / 5 + 1))\n",
    "curp = all_rows[i].text\n",
    "print('CURP:', curp)\n",
    "i = i + 1\n",
    "matricula = all_rows[i].text\n",
    "print('Matrícula:', matricula)\n",
    "i = i + 1\n",
    "nombre = all_rows[i].text\n",
    "print('Nombre:', nombre)\n",
    "i = i + 1\n",
    "cuenta = all_rows[i].text\n",
    "print('Cuenta:', cuenta)\n",
    "i = i + 1\n",
    "grupo = all_rows[i].text\n",
    "print('Grupo:', grupo)\n",
    "i = i + 1"
   ]
  },
  {
   "cell_type": "markdown",
   "metadata": {},
   "source": [
    "### It works!"
   ]
  },
  {
   "cell_type": "code",
   "execution_count": null,
   "metadata": {},
   "outputs": [],
   "source": []
  }
 ],
 "metadata": {
  "kernelspec": {
   "display_name": "Python 3",
   "language": "python",
   "name": "python3"
  },
  "language_info": {
   "codemirror_mode": {
    "name": "ipython",
    "version": 3
   },
   "file_extension": ".py",
   "mimetype": "text/x-python",
   "name": "python",
   "nbconvert_exporter": "python",
   "pygments_lexer": "ipython3",
   "version": "3.8.3"
  }
 },
 "nbformat": 4,
 "nbformat_minor": 4
}
